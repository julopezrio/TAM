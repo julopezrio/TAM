{
  "nbformat": 4,
  "nbformat_minor": 0,
  "metadata": {
    "colab": {
      "provenance": [],
      "authorship_tag": "ABX9TyOBmq1C/ctFysE254a6scVr",
      "include_colab_link": true
    },
    "kernelspec": {
      "name": "python3",
      "display_name": "Python 3"
    },
    "language_info": {
      "name": "python"
    }
  },
  "cells": [
    {
      "cell_type": "markdown",
      "metadata": {
        "id": "view-in-github",
        "colab_type": "text"
      },
      "source": [
        "<a href=\"https://colab.research.google.com/github/julopezrio/TAM/blob/main/tarea_lunes.ipynb\" target=\"_parent\"><img src=\"https://colab.research.google.com/assets/colab-badge.svg\" alt=\"Open In Colab\"/></a>"
      ]
    },
    {
      "cell_type": "code",
      "execution_count": 4,
      "metadata": {
        "colab": {
          "base_uri": "https://localhost:8080/"
        },
        "id": "PsT-k8lFjhRE",
        "outputId": "a7e248b0-0670-49ef-810e-524a78bdbf85"
      },
      "outputs": [
        {
          "output_type": "stream",
          "name": "stdout",
          "text": [
            "imagen muy parecida a la referencia\n",
            "Distancia euclídea: 28.93610402437047\n",
            "Similitud coseno: 0.9210049794935873\n",
            "imagen nada parecida a la referencia\n",
            "Distancia euclídea: 39.453093148899775\n",
            "Similitud coseno: 0.8629759329057819\n"
          ]
        }
      ],
      "source": [
        "import numpy as np\n",
        "from PIL import Image\n",
        "from numpy.linalg import norm\n",
        "\n",
        "# --- Función para cargar y convertir imagen en vector ---\n",
        "def img_to_vector(path, size=(128,128)):\n",
        "    # Abre imagen, la convierte a escala de grises y la redimensiona\n",
        "    img = Image.open(path).convert(\"L\").resize(size)\n",
        "    # Convierte a numpy array y luego aplana en vector\n",
        "    vec = np.array(img).flatten()\n",
        "    # Normaliza entre 0 y 1\n",
        "    vec = vec / 255.0\n",
        "    return vec\n",
        "\n",
        "# --- Cargar dos imágenes ---\n",
        "#imagen de referencia\n",
        "vec1 = img_to_vector(\"/content/WhatsApp Image 2025-09-02 at 22.12.03 (1).jpeg\")\n",
        "\n",
        "#imagen muy parecida a la referencia\n",
        "vec2 = img_to_vector(\"/content/WhatsApp Image 2025-09-02 at 22.12.03.jpeg\")\n",
        "# --- Calcular distancias ---\n",
        "dist_euclidea = norm(vec1 - vec2)\n",
        "sim_coseno = np.dot(vec1, vec2) / (norm(vec1) * norm(vec2))\n",
        "\n",
        "print(\"imagen muy parecida a la referencia\")\n",
        "print(\"Distancia euclídea:\", dist_euclidea)\n",
        "print(\"Similitud coseno:\", sim_coseno)\n",
        "\n",
        "#imagen nada parecida a la referencia\n",
        "vec3 = img_to_vector(\"/content/5a3ee2e4-f080-42df-8573-473cd61d70b7.jpeg\")\n",
        "# --- Calcular distancias ---\n",
        "dist_euclidea1 = norm(vec1 - vec3)\n",
        "sim_coseno1 = np.dot(vec1, vec3) / (norm(vec1) * norm(vec3))\n",
        "\n",
        "print(\"imagen nada parecida a la referencia\")\n",
        "print(\"Distancia euclídea:\", dist_euclidea1)\n",
        "print(\"Similitud coseno:\", sim_coseno1)\n",
        "\n",
        "\n"
      ]
    }
  ]
}